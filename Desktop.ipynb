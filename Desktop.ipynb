{
 "cells": [
  {
   "cell_type": "code",
   "execution_count": 2,
   "id": "35e24bdc",
   "metadata": {},
   "outputs": [
    {
     "name": "stdout",
     "output_type": "stream",
     "text": [
      "123\n"
     ]
    }
   ],
   "source": [
    ">>> print(123)\n"
   ]
  },
  {
   "cell_type": "code",
   "execution_count": 4,
   "id": "08ab392d",
   "metadata": {},
   "outputs": [
    {
     "name": "stdout",
     "output_type": "stream",
     "text": [
      "98.6\n"
     ]
    }
   ],
   "source": [
    ">>> print(98.6)\n"
   ]
  },
  {
   "cell_type": "code",
   "execution_count": 5,
   "id": "78c0baff",
   "metadata": {},
   "outputs": [
    {
     "name": "stdout",
     "output_type": "stream",
     "text": [
      "Hello world\n"
     ]
    }
   ],
   "source": [
    "print('Hello world')\n"
   ]
  },
  {
   "cell_type": "code",
   "execution_count": 7,
   "id": "1d11aac2",
   "metadata": {},
   "outputs": [
    {
     "name": "stdout",
     "output_type": "stream",
     "text": [
      "437.5\n"
     ]
    }
   ],
   "source": [
    "\n",
    "a = 35.0\n",
    "b = 12.50\n",
    "c = a * b\n",
    "print(c)"
   ]
  },
  {
   "cell_type": "code",
   "execution_count": 8,
   "id": "1bb299e5",
   "metadata": {},
   "outputs": [
    {
     "name": "stdout",
     "output_type": "stream",
     "text": [
      "437.5\n"
     ]
    }
   ],
   "source": [
    "hours = 35.0\n",
    "rate = 12.50\n",
    "pay = hours * rate\n",
    "print(pay)\n"
   ]
  },
  {
   "cell_type": "code",
   "execution_count": 9,
   "id": "e4fb035c",
   "metadata": {},
   "outputs": [
    {
     "name": "stdout",
     "output_type": "stream",
     "text": [
      "437.5\n"
     ]
    }
   ],
   "source": [
    "x1q3z9ocd = 35.0\n",
    "x1q3z9afd = 12.50\n",
    "x1q3p9afd = x1q3z9ocd * x1q3z9afd\n",
    "print(x1q3p9afd)\n"
   ]
  },
  {
   "cell_type": "code",
   "execution_count": 10,
   "id": "5427e5c0",
   "metadata": {},
   "outputs": [
    {
     "name": "stdout",
     "output_type": "stream",
     "text": [
      "4\n"
     ]
    }
   ],
   "source": [
    "x = 2\n",
    "x = x + 2\n",
    "print(x)"
   ]
  },
  {
   "cell_type": "code",
   "execution_count": 11,
   "id": "7e083920",
   "metadata": {},
   "outputs": [
    {
     "name": "stdout",
     "output_type": "stream",
     "text": [
      "-46.8\n"
     ]
    }
   ],
   "source": [
    "x = 3.9 * x * ( 1 - x )\n",
    "print(x)"
   ]
  },
  {
   "cell_type": "code",
   "execution_count": 12,
   "id": "bdce0d0a",
   "metadata": {},
   "outputs": [
    {
     "name": "stdout",
     "output_type": "stream",
     "text": [
      "4\n"
     ]
    }
   ],
   "source": [
    ">>> xx = 2\n",
    ">>> xx = xx + 2\n",
    ">>> print(xx)"
   ]
  },
  {
   "cell_type": "code",
   "execution_count": 13,
   "id": "3c74924d",
   "metadata": {},
   "outputs": [
    {
     "name": "stdout",
     "output_type": "stream",
     "text": [
      "3\n"
     ]
    }
   ],
   "source": [
    ">>> jj = 23\n",
    ">>> kk = jj % 5\n",
    ">>> print(kk)"
   ]
  },
  {
   "cell_type": "code",
   "execution_count": 37,
   "id": "35c376df",
   "metadata": {},
   "outputs": [
    {
     "name": "stdout",
     "output_type": "stream",
     "text": [
      "5280\n",
      "5.28\n"
     ]
    }
   ],
   "source": [
    ">>> yy = 440 * 12\n",
    ">>> print(yy)\n",
    ">>> zz = yy / 1000\n",
    ">>> print(zz)"
   ]
  },
  {
   "cell_type": "code",
   "execution_count": 15,
   "id": "eae686c7",
   "metadata": {},
   "outputs": [
    {
     "name": "stdout",
     "output_type": "stream",
     "text": [
      "5280\n"
     ]
    }
   ],
   "source": [
    ">>> yy = 440 * 12\n",
    ">>> print(yy)\n"
   ]
  },
  {
   "cell_type": "code",
   "execution_count": 16,
   "id": "8894af67",
   "metadata": {},
   "outputs": [
    {
     "name": "stdout",
     "output_type": "stream",
     "text": [
      "5.28\n"
     ]
    }
   ],
   "source": [
    ">>> zz = yy / 1000\n",
    ">>> print(zz)"
   ]
  },
  {
   "cell_type": "code",
   "execution_count": 17,
   "id": "f898cea1",
   "metadata": {},
   "outputs": [
    {
     "name": "stdout",
     "output_type": "stream",
     "text": [
      "6.999744\n"
     ]
    }
   ],
   "source": [
    "x = 1 + 2 * 3 - 4 / 5 ** 6\n",
    "print(x)"
   ]
  },
  {
   "cell_type": "code",
   "execution_count": 18,
   "id": "48aae40f",
   "metadata": {},
   "outputs": [
    {
     "name": "stdout",
     "output_type": "stream",
     "text": [
      "11.0\n"
     ]
    }
   ],
   "source": [
    ">>> x = 1 + 2 ** 3 / 4 * 5\n",
    ">>> print(x)"
   ]
  },
  {
   "cell_type": "code",
   "execution_count": 19,
   "id": "91b6c05c",
   "metadata": {},
   "outputs": [
    {
     "name": "stdout",
     "output_type": "stream",
     "text": [
      "5\n"
     ]
    }
   ],
   "source": [
    ">>> ddd = 1 + 4\n",
    ">>> print(ddd)"
   ]
  },
  {
   "cell_type": "code",
   "execution_count": 20,
   "id": "2191f370",
   "metadata": {},
   "outputs": [
    {
     "name": "stdout",
     "output_type": "stream",
     "text": [
      "hello there\n"
     ]
    }
   ],
   "source": [
    ">>> eee = 'hello ' + 'there'\n",
    ">>> print(eee)"
   ]
  },
  {
   "cell_type": "code",
   "execution_count": 35,
   "id": "ded7d627",
   "metadata": {},
   "outputs": [
    {
     "name": "stdout",
     "output_type": "stream",
     "text": [
      "hello there\n"
     ]
    }
   ],
   "source": [
    ">>> eee = 'hello ' + 'there'\n",
    ">>> print(eee)"
   ]
  },
  {
   "cell_type": "code",
   "execution_count": 22,
   "id": "d0785c14",
   "metadata": {},
   "outputs": [
    {
     "ename": "SyntaxError",
     "evalue": "invalid syntax (3978838400.py, line 2)",
     "output_type": "error",
     "traceback": [
      "\u001b[1;36m  Cell \u001b[1;32mIn[22], line 2\u001b[1;36m\u001b[0m\n\u001b[1;33m    <class'str'>\u001b[0m\n\u001b[1;37m    ^\u001b[0m\n\u001b[1;31mSyntaxError\u001b[0m\u001b[1;31m:\u001b[0m invalid syntax\n"
     ]
    }
   ],
   "source": []
  },
  {
   "cell_type": "code",
   "execution_count": 34,
   "id": "e69542b0",
   "metadata": {},
   "outputs": [
    {
     "data": {
      "text/plain": [
       "int"
      ]
     },
     "execution_count": 34,
     "metadata": {},
     "output_type": "execute_result"
    }
   ],
   "source": [
    "\n",
    ">>> type(eee)\n",
    ">>> type('hello')\n",
    ">>> type(1)\n",
    ">>> "
   ]
  },
  {
   "cell_type": "code",
   "execution_count": 26,
   "id": "12978458",
   "metadata": {},
   "outputs": [
    {
     "data": {
      "text/plain": [
       "float"
      ]
     },
     "execution_count": 26,
     "metadata": {},
     "output_type": "execute_result"
    }
   ],
   "source": [
    ">>> xx = 1\n",
    ">>> type (xx)\n",
    ">>> temp = 98.6\n",
    ">>> type(temp)\n",
    ">>> type(1)\n",
    ">>> type(1.0)\n",
    ">>>"
   ]
  },
  {
   "cell_type": "code",
   "execution_count": 36,
   "id": "a433c2ee",
   "metadata": {},
   "outputs": [
    {
     "data": {
      "text/plain": [
       "int"
      ]
     },
     "execution_count": 36,
     "metadata": {},
     "output_type": "execute_result"
    }
   ],
   "source": [
    "\n",
    ">>> type(eee)\n",
    ">>> type('hello')\n",
    ">>> type(1)"
   ]
  },
  {
   "cell_type": "code",
   "execution_count": 28,
   "id": "5011fcf7",
   "metadata": {},
   "outputs": [
    {
     "data": {
      "text/plain": [
       "int"
      ]
     },
     "execution_count": 28,
     "metadata": {},
     "output_type": "execute_result"
    }
   ],
   "source": [
    ">>> type(eee)\n",
    ">>> type('hello')\n",
    ">>> type(1)\n",
    ">>> "
   ]
  },
  {
   "cell_type": "code",
   "execution_count": 30,
   "id": "74934c57",
   "metadata": {},
   "outputs": [
    {
     "name": "stdout",
     "output_type": "stream",
     "text": [
      "199.0\n",
      "42.0\n"
     ]
    },
    {
     "data": {
      "text/plain": [
       "float"
      ]
     },
     "execution_count": 30,
     "metadata": {},
     "output_type": "execute_result"
    }
   ],
   "source": [
    ">>> print(float(99) + 100)\n",
    ">>> i = 42\n",
    ">>> type(i)\n",
    ">>> f = float(i)\n",
    ">>> print(f)\n",
    ">>> type(f)\n",
    ">>>"
   ]
  },
  {
   "cell_type": "code",
   "execution_count": 31,
   "id": "c9debab1",
   "metadata": {},
   "outputs": [
    {
     "name": "stdout",
     "output_type": "stream",
     "text": [
      "5.0\n"
     ]
    }
   ],
   "source": [
    ">>> print(10 / 2)"
   ]
  },
  {
   "cell_type": "code",
   "execution_count": 32,
   "id": "3eec1af3",
   "metadata": {},
   "outputs": [
    {
     "name": "stdout",
     "output_type": "stream",
     "text": [
      "4.5\n"
     ]
    }
   ],
   "source": [
    ">>> print(9 / 2)"
   ]
  },
  {
   "cell_type": "code",
   "execution_count": 38,
   "id": "2a58f7b9",
   "metadata": {},
   "outputs": [
    {
     "name": "stdout",
     "output_type": "stream",
     "text": [
      "0.99\n"
     ]
    }
   ],
   "source": [
    ">>> print(99 / 100)"
   ]
  },
  {
   "cell_type": "code",
   "execution_count": 39,
   "id": "45583fbc",
   "metadata": {},
   "outputs": [
    {
     "name": "stdout",
     "output_type": "stream",
     "text": [
      "5.0\n"
     ]
    }
   ],
   "source": [
    ">>> print(10.0 / 2.0)"
   ]
  },
  {
   "cell_type": "code",
   "execution_count": 40,
   "id": "0d3417b2",
   "metadata": {},
   "outputs": [
    {
     "name": "stdout",
     "output_type": "stream",
     "text": [
      "0.99\n"
     ]
    }
   ],
   "source": [
    ">>> print(99.0 / 100.0)"
   ]
  },
  {
   "cell_type": "code",
   "execution_count": null,
   "id": "40bf7b86",
   "metadata": {},
   "outputs": [],
   "source": []
  }
 ],
 "metadata": {
  "kernelspec": {
   "display_name": "Python 3 (ipykernel)",
   "language": "python",
   "name": "python3"
  },
  "language_info": {
   "codemirror_mode": {
    "name": "ipython",
    "version": 3
   },
   "file_extension": ".py",
   "mimetype": "text/x-python",
   "name": "python",
   "nbconvert_exporter": "python",
   "pygments_lexer": "ipython3",
   "version": "3.11.4"
  }
 },
 "nbformat": 4,
 "nbformat_minor": 5
}
